{
 "cells": [
  {
   "cell_type": "code",
   "id": "initial_id",
   "metadata": {
    "collapsed": true,
    "jupyter": {
     "is_executing": true
    }
   },
   "source": [
    "# read runs_history\n",
    "\n",
    "from pathlib import Path\n",
    "import pandas as pd\n",
    "import matplotlib.pyplot as plt\n",
    "\n",
    "RESULTS_PATH = Path(\"results\")\n",
    "runs_history = pd.read_csv(RESULTS_PATH / \"runs_history.csv\")\n",
    "\n",
    "print(runs_history)\n",
    "\n",
    "for index, row in runs_history.iterrows():\n",
    "    history = pd.read_csv(row['history_csv_file'])\n",
    "\n",
    "    fig, axs = plt.subplots(2)\n",
    "    fig.suptitle(f\"Experiment {row['experiment_id']} - {row['model_name']} - {row['timestamp']}\")\n",
    "\n",
    "    axs[0].plot(history['loss'], label='train')\n",
    "    axs[0].plot(history['val_loss'], label='test')\n",
    "\n",
    "    axs[1].plot(history['accuracy'], label='train')\n",
    "    axs[1].plot(history['val_accuracy'], label='test')\n",
    "\n",
    "    axs[0].set_title('Loss')\n",
    "    axs[0].set_xlabel('Epoch')\n",
    "    axs[0].set_ylabel('Loss')\n",
    "    axs[0].legend()\n",
    "\n",
    "    axs[1].set_title('Accuracy')\n",
    "    axs[1].set_xlabel('Epoch')\n",
    "    axs[1].set_ylabel('Accuracy')\n",
    "    axs[1].legend()\n",
    "\n",
    "    plt.show()\n"
   ],
   "outputs": [],
   "execution_count": null
  },
  {
   "metadata": {},
   "cell_type": "code",
   "outputs": [],
   "execution_count": null,
   "source": "",
   "id": "c85485d0dccf91e0"
  }
 ],
 "metadata": {
  "kernelspec": {
   "display_name": "Python 3",
   "language": "python",
   "name": "python3"
  },
  "language_info": {
   "codemirror_mode": {
    "name": "ipython",
    "version": 2
   },
   "file_extension": ".py",
   "mimetype": "text/x-python",
   "name": "python",
   "nbconvert_exporter": "python",
   "pygments_lexer": "ipython2",
   "version": "2.7.6"
  }
 },
 "nbformat": 4,
 "nbformat_minor": 5
}
