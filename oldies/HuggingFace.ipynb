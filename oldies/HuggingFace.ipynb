{
  "cells": [
    {
      "cell_type": "markdown",
      "metadata": {
        "colab_type": "text",
        "id": "view-in-github"
      },
      "source": [
        "<a href=\"https://colab.research.google.com/github/zuzann18/Praca-Magisterska/blob/main/HuggingFace.ipynb\" target=\"_parent\"><img src=\"https://colab.research.google.com/assets/colab-badge.svg\" alt=\"Open In Colab\"/></a>"
      ]
    },
    {
      "cell_type": "markdown",
      "metadata": {
        "id": "nB6wtc74QK4v"
      },
      "source": [
        "## Load and Explore the Dataset"
      ]
    },
    {
      "cell_type": "code",
      "execution_count": 25,
      "metadata": {
        "colab": {
          "base_uri": "https://localhost:8080/"
        },
        "id": "jjH_lSA6xYMO",
        "outputId": "cb05327d-c5d3-4d5c-9ab5-50a29603a16c"
      },
      "outputs": [
        {
          "name": "stdout",
          "output_type": "stream",
          "text": [
            "Requirement already satisfied: datasets in /usr/local/lib/python3.10/dist-packages (2.16.1)\n",
            "Requirement already satisfied: filelock in /usr/local/lib/python3.10/dist-packages (from datasets) (3.13.1)\n",
            "Requirement already satisfied: numpy>=1.17 in /usr/local/lib/python3.10/dist-packages (from datasets) (1.23.5)\n",
            "Requirement already satisfied: pyarrow>=8.0.0 in /usr/local/lib/python3.10/dist-packages (from datasets) (10.0.1)\n",
            "Requirement already satisfied: pyarrow-hotfix in /usr/local/lib/python3.10/dist-packages (from datasets) (0.6)\n",
            "Requirement already satisfied: dill<0.3.8,>=0.3.0 in /usr/local/lib/python3.10/dist-packages (from datasets) (0.3.7)\n",
            "Requirement already satisfied: pandas in /usr/local/lib/python3.10/dist-packages (from datasets) (1.5.3)\n",
            "Requirement already satisfied: requests>=2.19.0 in /usr/local/lib/python3.10/dist-packages (from datasets) (2.31.0)\n",
            "Requirement already satisfied: tqdm>=4.62.1 in /usr/local/lib/python3.10/dist-packages (from datasets) (4.66.1)\n",
            "Requirement already satisfied: xxhash in /usr/local/lib/python3.10/dist-packages (from datasets) (3.4.1)\n",
            "Requirement already satisfied: multiprocess in /usr/local/lib/python3.10/dist-packages (from datasets) (0.70.15)\n",
            "Requirement already satisfied: fsspec[http]<=2023.10.0,>=2023.1.0 in /usr/local/lib/python3.10/dist-packages (from datasets) (2023.6.0)\n",
            "Requirement already satisfied: aiohttp in /usr/local/lib/python3.10/dist-packages (from datasets) (3.9.1)\n",
            "Requirement already satisfied: huggingface-hub>=0.19.4 in /usr/local/lib/python3.10/dist-packages (from datasets) (0.20.3)\n",
            "Requirement already satisfied: packaging in /usr/local/lib/python3.10/dist-packages (from datasets) (23.2)\n",
            "Requirement already satisfied: pyyaml>=5.1 in /usr/local/lib/python3.10/dist-packages (from datasets) (6.0.1)\n",
            "Requirement already satisfied: attrs>=17.3.0 in /usr/local/lib/python3.10/dist-packages (from aiohttp->datasets) (23.2.0)\n",
            "Requirement already satisfied: multidict<7.0,>=4.5 in /usr/local/lib/python3.10/dist-packages (from aiohttp->datasets) (6.0.4)\n",
            "Requirement already satisfied: yarl<2.0,>=1.0 in /usr/local/lib/python3.10/dist-packages (from aiohttp->datasets) (1.9.4)\n",
            "Requirement already satisfied: frozenlist>=1.1.1 in /usr/local/lib/python3.10/dist-packages (from aiohttp->datasets) (1.4.1)\n",
            "Requirement already satisfied: aiosignal>=1.1.2 in /usr/local/lib/python3.10/dist-packages (from aiohttp->datasets) (1.3.1)\n",
            "Requirement already satisfied: async-timeout<5.0,>=4.0 in /usr/local/lib/python3.10/dist-packages (from aiohttp->datasets) (4.0.3)\n",
            "Requirement already satisfied: typing-extensions>=3.7.4.3 in /usr/local/lib/python3.10/dist-packages (from huggingface-hub>=0.19.4->datasets) (4.5.0)\n",
            "Requirement already satisfied: charset-normalizer<4,>=2 in /usr/local/lib/python3.10/dist-packages (from requests>=2.19.0->datasets) (3.3.2)\n",
            "Requirement already satisfied: idna<4,>=2.5 in /usr/local/lib/python3.10/dist-packages (from requests>=2.19.0->datasets) (3.6)\n",
            "Requirement already satisfied: urllib3<3,>=1.21.1 in /usr/local/lib/python3.10/dist-packages (from requests>=2.19.0->datasets) (2.0.7)\n",
            "Requirement already satisfied: certifi>=2017.4.17 in /usr/local/lib/python3.10/dist-packages (from requests>=2.19.0->datasets) (2023.11.17)\n",
            "Requirement already satisfied: python-dateutil>=2.8.1 in /usr/local/lib/python3.10/dist-packages (from pandas->datasets) (2.8.2)\n",
            "Requirement already satisfied: pytz>=2020.1 in /usr/local/lib/python3.10/dist-packages (from pandas->datasets) (2023.3.post1)\n",
            "Requirement already satisfied: six>=1.5 in /usr/local/lib/python3.10/dist-packages (from python-dateutil>=2.8.1->pandas->datasets) (1.16.0)\n",
            "DatasetDict({\n",
            "    train: Dataset({\n",
            "        features: ['image', 'label'],\n",
            "        num_rows: 26000\n",
            "    })\n",
            "    test: Dataset({\n",
            "        features: ['image', 'label'],\n",
            "        num_rows: 2600\n",
            "    })\n",
            "})\n",
            "<class 'dict'>\n",
            "{'image': <PIL.JpegImagePlugin.JpegImageFile image mode=RGB size=28x28 at 0x7F014FE14040>, 'label': 0}\n",
            "<class 'PIL.JpegImagePlugin.JpegImageFile'>\n",
            "<class 'int'>\n"
          ]
        }
      ],
      "source": [
        "# Install the Hugging Face 'datasets' library\n",
        "!pip install datasets\n",
        "\n",
        "# Import necessary library\n",
        "from datasets import load_dataset\n",
        "\n",
        "# Load the dataset\n",
        "dataset = load_dataset(\"pittawat/letter_recognition\")\n",
        "\n",
        "# Explore the dataset\n",
        "print(dataset)\n",
        "\n",
        "# Example: Accessing specific data\n",
        "train_data = dataset['train']\n",
        "\n",
        "\n",
        "first_entry = train_data[0]\n",
        "print(type(first_entry))  # To check the type of the entry\n",
        "print(first_entry)        # To see the actual content\n",
        "\n",
        "# To check the type of the image and label\n",
        "print(type(first_entry['image']))\n",
        "print(type(first_entry['label']))\n"
      ]
    },
    {
      "cell_type": "markdown",
      "metadata": {
        "id": "_JzneYVDQ25H"
      },
      "source": [
        "Visualize the Data"
      ]
    },
    {
      "cell_type": "code",
      "execution_count": 26,
      "metadata": {
        "id": "PWYYLwt6E0Gn"
      },
      "outputs": [],
      "source": [
        "\n",
        "def show_images(dataset, num_images=5):\n",
        "    fig, axes = plt.subplots(1, num_images, figsize=(10, 2))\n",
        "    for i in range(num_images):\n",
        "        # Assuming the image is stored as a PIL Image object\n",
        "        ax = axes[i]\n",
        "        ax.imshow(np.array(dataset[i]['image']), cmap='gray')\n",
        "        ax.set_title(f\"Label: {dataset[i]['label']}\")\n",
        "        ax.axis('off')\n",
        "\n",
        "    plt.show()\n",
        "def plot_label_distribution(dataset):\n",
        "    labels = [sample['label'] for sample in dataset]\n",
        "    sns.countplot(labels)\n",
        "    plt.title(\"Distribution of Labels\")\n",
        "    plt.xlabel(\"Label\")\n",
        "    plt.ylabel(\"Count\")\n",
        "    plt.show()\n",
        "\n",
        "#---------\"Preprocess the Data\"\n",
        "\n",
        "# Converting images from PIL to numpy array,  normalization\n",
        "def preprocess_image(image):\n",
        "    image_array = np.array(image)\n",
        "    return image_array / 255.0\n",
        "\n",
        "# Preprocessing data\n",
        "def preprocess_data(dataset):\n",
        "    images = np.array([preprocess_image(sample['image']) for sample in dataset])\n",
        "    labels = to_categorical([sample['label'] for sample in dataset])\n",
        "    return images, labels\n",
        "\n",
        "X, y = preprocess_data(train_data)"
      ]
    },
    {
      "cell_type": "code",
      "execution_count": 27,
      "metadata": {
        "colab": {
          "base_uri": "https://localhost:8080/",
          "height": 192
        },
        "id": "3-zzHvInKmHI",
        "outputId": "a1906a10-39ac-4ead-ebda-165f0703183d"
      },
      "outputs": [
        {
          "data": {
            "image/png": "[encoded data removed]",
            "text/plain": [
              "<Figure size 1000x200 with 5 Axes>"
            ]
          },
          "metadata": {},
          "output_type": "display_data"
        }
      ],
      "source": [
        "import matplotlib.pyplot as plt\n",
        "\n",
        "def show_images(dataset, num_images=5):\n",
        "    fig, axes = plt.subplots(1, num_images, figsize=(10, 2))\n",
        "    for i, ax in enumerate(axes):\n",
        "        ax.imshow(np.squeeze(dataset[i]['image']), cmap='gray')\n",
        "        ax.title.set_text(f\"Label: {dataset[i]['label']}\")\n",
        "        ax.axis('off')\n",
        "    plt.show()\n",
        "\n",
        "show_images(train_data)\n"
      ]
    },
    {
      "cell_type": "code",
      "execution_count": 28,
      "metadata": {
        "colab": {
          "base_uri": "https://localhost:8080/",
          "height": 452
        },
        "id": "Xo8IeeeaKvEQ",
        "outputId": "662eae49-6fec-4622-c544-29dca9b7837c"
      },
      "outputs": [
        {
          "data": {
            "image/png": "[encoded data removed]",
            "text/plain": [
              "<Figure size 640x480 with 1 Axes>"
            ]
          },
          "metadata": {},
          "output_type": "display_data"
        }
      ],
      "source": [
        "import seaborn as sns\n",
        "\n",
        "labels = [sample['label'] for sample in train_data]\n",
        "sns.countplot(labels)\n",
        "plt.title(\"Distribution of Labels\")\n",
        "plt.show()\n"
      ]
    },
    {
      "cell_type": "code",
      "execution_count": 29,
      "metadata": {
        "colab": {
          "base_uri": "https://localhost:8080/"
        },
        "id": "oFB68Pzht4XO",
        "outputId": "5b345607-5876-47c6-cc85-d111190af745"
      },
      "outputs": [
        {
          "name": "stdout",
          "output_type": "stream",
          "text": [
            "Wymiary obrazów treningowych: (26000, 28, 28, 3)\n",
            "Wymiary etykiet treningowych: (26000, 26)\n",
            "Wymiary obrazów testowych: (2600, 28, 28, 3)\n",
            "Wymiary etykiet testowych: (2600, 26)\n",
            "Epoch 1/20\n",
            "812/813 [============================>.] - ETA: 0s - loss: 1.6851 - accuracy: 0.5429"
          ]
        },
        {
          "name": "stderr",
          "output_type": "stream",
          "text": [
            "WARNING:tensorflow:Can save best model only with val_loss available, skipping.\n"
          ]
        },
        {
          "name": "stdout",
          "output_type": "stream",
          "text": [
            "813/813 [==============================] - 21s 24ms/step - loss: 1.6846 - accuracy: 0.5431 - lr: 0.0010\n",
            "Epoch 2/20\n",
            "812/813 [============================>.] - ETA: 0s - loss: 0.7939 - accuracy: 0.7740"
          ]
        },
        {
          "name": "stderr",
          "output_type": "stream",
          "text": [
            "WARNING:tensorflow:Can save best model only with val_loss available, skipping.\n"
          ]
        },
        {
          "name": "stdout",
          "output_type": "stream",
          "text": [
            "813/813 [==============================] - 17s 21ms/step - loss: 0.7938 - accuracy: 0.7740 - lr: 0.0010\n",
            "Epoch 3/20\n",
            "811/813 [============================>.] - ETA: 0s - loss: 0.6350 - accuracy: 0.8149"
          ]
        },
        {
          "name": "stderr",
          "output_type": "stream",
          "text": [
            "WARNING:tensorflow:Can save best model only with val_loss available, skipping.\n"
          ]
        },
        {
          "name": "stdout",
          "output_type": "stream",
          "text": [
            "813/813 [==============================] - 17s 21ms/step - loss: 0.6348 - accuracy: 0.8150 - lr: 0.0010\n",
            "Epoch 4/20\n",
            "812/813 [============================>.] - ETA: 0s - loss: 0.5472 - accuracy: 0.8401"
          ]
        },
        {
          "name": "stderr",
          "output_type": "stream",
          "text": [
            "WARNING:tensorflow:Can save best model only with val_loss available, skipping.\n"
          ]
        },
        {
          "name": "stdout",
          "output_type": "stream",
          "text": [
            "813/813 [==============================] - 18s 22ms/step - loss: 0.5471 - accuracy: 0.8401 - lr: 0.0010\n",
            "Epoch 5/20\n",
            "812/813 [============================>.] - ETA: 0s - loss: 0.5018 - accuracy: 0.8503"
          ]
        },
        {
          "name": "stderr",
          "output_type": "stream",
          "text": [
            "WARNING:tensorflow:Can save best model only with val_loss available, skipping.\n"
          ]
        },
        {
          "name": "stdout",
          "output_type": "stream",
          "text": [
            "813/813 [==============================] - 17s 21ms/step - loss: 0.5020 - accuracy: 0.8502 - lr: 0.0010\n",
            "Epoch 6/20\n",
            "812/813 [============================>.] - ETA: 0s - loss: 0.4522 - accuracy: 0.8616"
          ]
        },
        {
          "name": "stderr",
          "output_type": "stream",
          "text": [
            "WARNING:tensorflow:Can save best model only with val_loss available, skipping.\n"
          ]
        },
        {
          "name": "stdout",
          "output_type": "stream",
          "text": [
            "813/813 [==============================] - 17s 21ms/step - loss: 0.4522 - accuracy: 0.8615 - lr: 0.0010\n",
            "Epoch 7/20\n",
            "813/813 [==============================] - ETA: 0s - loss: 0.4259 - accuracy: 0.8682"
          ]
        },
        {
          "name": "stderr",
          "output_type": "stream",
          "text": [
            "WARNING:tensorflow:Can save best model only with val_loss available, skipping.\n"
          ]
        },
        {
          "name": "stdout",
          "output_type": "stream",
          "text": [
            "813/813 [==============================] - 17s 21ms/step - loss: 0.4259 - accuracy: 0.8682 - lr: 0.0010\n",
            "Epoch 8/20\n",
            "812/813 [============================>.] - ETA: 0s - loss: 0.4001 - accuracy: 0.8750"
          ]
        },
        {
          "name": "stderr",
          "output_type": "stream",
          "text": [
            "WARNING:tensorflow:Can save best model only with val_loss available, skipping.\n"
          ]
        },
        {
          "name": "stdout",
          "output_type": "stream",
          "text": [
            "813/813 [==============================] - 17s 21ms/step - loss: 0.4000 - accuracy: 0.8751 - lr: 0.0010\n",
            "Epoch 9/20\n",
            "812/813 [============================>.] - ETA: 0s - loss: 0.3820 - accuracy: 0.8802"
          ]
        },
        {
          "name": "stderr",
          "output_type": "stream",
          "text": [
            "WARNING:tensorflow:Can save best model only with val_loss available, skipping.\n"
          ]
        },
        {
          "name": "stdout",
          "output_type": "stream",
          "text": [
            "813/813 [==============================] - 18s 22ms/step - loss: 0.3821 - accuracy: 0.8802 - lr: 0.0010\n",
            "Epoch 10/20\n",
            "811/813 [============================>.] - ETA: 0s - loss: 0.3589 - accuracy: 0.8850"
          ]
        },
        {
          "name": "stderr",
          "output_type": "stream",
          "text": [
            "WARNING:tensorflow:Can save best model only with val_loss available, skipping.\n"
          ]
        },
        {
          "name": "stdout",
          "output_type": "stream",
          "text": [
            "\b\b\b\b\b\b\b\b\b\b\b\b\b\b\b\b\b\b\b\b\b\b\b\b\b\b\b\b\b\b\b\b\b\b\b\b\b\b\b\b\b\b\b\b\b\b\b\b\b\b\b\b\b\b\b\b\b\b\b\b\b\b\b\b\b\b\b\b\b\b\b\b\b\b\b\b\b\b\b\b\b\b\b\b\r813/813 [==============================] - 18s 22ms/step - loss: 0.3588 - accuracy: 0.8850 - lr: 0.0010\n",
            "Epoch 11/20\n",
            "812/813 [============================>.] - ETA: 0s - loss: 0.3296 - accuracy: 0.8950"
          ]
        },
        {
          "name": "stderr",
          "output_type": "stream",
          "text": [
            "WARNING:tensorflow:Can save best model only with val_loss available, skipping.\n"
          ]
        },
        {
          "name": "stdout",
          "output_type": "stream",
          "text": [
            "\b\b\b\b\b\b\b\b\b\b\b\b\b\b\b\b\b\b\b\b\b\b\b\b\b\b\b\b\b\b\b\b\b\b\b\b\b\b\b\b\b\b\b\b\b\b\b\b\b\b\b\b\b\b\b\b\b\b\b\b\b\b\b\b\b\b\b\b\b\b\b\b\b\b\b\b\b\b\b\b\b\b\b\b\r813/813 [==============================] - 19s 23ms/step - loss: 0.3299 - accuracy: 0.8950 - lr: 9.0484e-04\n",
            "Epoch 12/20\n",
            "811/813 [============================>.] - ETA: 0s - loss: 0.3163 - accuracy: 0.8987"
          ]
        },
        {
          "name": "stderr",
          "output_type": "stream",
          "text": [
            "WARNING:tensorflow:Can save best model only with val_loss available, skipping.\n"
          ]
        },
        {
          "name": "stdout",
          "output_type": "stream",
          "text": [
            "\b\b\b\b\b\b\b\b\b\b\b\b\b\b\b\b\b\b\b\b\b\b\b\b\b\b\b\b\b\b\b\b\b\b\b\b\b\b\b\b\b\b\b\b\b\b\b\b\b\b\b\b\b\b\b\b\b\b\b\b\b\b\b\b\b\b\b\b\b\b\b\b\b\b\b\b\b\b\b\b\b\b\b\b\r813/813 [==============================] - 19s 23ms/step - loss: 0.3163 - accuracy: 0.8987 - lr: 8.1873e-04\n",
            "Epoch 13/20\n",
            "813/813 [==============================] - ETA: 0s - loss: 0.2991 - accuracy: 0.9038"
          ]
        },
        {
          "name": "stderr",
          "output_type": "stream",
          "text": [
            "WARNING:tensorflow:Can save best model only with val_loss available, skipping.\n"
          ]
        },
        {
          "name": "stdout",
          "output_type": "stream",
          "text": [
            "\b\b\b\b\b\b\b\b\b\b\b\b\b\b\b\b\b\b\b\b\b\b\b\b\b\b\b\b\b\b\b\b\b\b\b\b\b\b\b\b\b\b\b\b\b\b\b\b\b\b\b\b\b\b\b\b\b\b\b\b\b\b\b\b\b\b\b\b\b\b\b\b\b\b\b\b\b\b\b\b\b\b\b\b\r813/813 [==============================] - 18s 23ms/step - loss: 0.2991 - accuracy: 0.9038 - lr: 7.4082e-04\n",
            "Epoch 14/20\n",
            "812/813 [============================>.] - ETA: 0s - loss: 0.2899 - accuracy: 0.9071"
          ]
        },
        {
          "name": "stderr",
          "output_type": "stream",
          "text": [
            "WARNING:tensorflow:Can save best model only with val_loss available, skipping.\n"
          ]
        },
        {
          "name": "stdout",
          "output_type": "stream",
          "text": [
            "\b\b\b\b\b\b\b\b\b\b\b\b\b\b\b\b\b\b\b\b\b\b\b\b\b\b\b\b\b\b\b\b\b\b\b\b\b\b\b\b\b\b\b\b\b\b\b\b\b\b\b\b\b\b\b\b\b\b\b\b\b\b\b\b\b\b\b\b\b\b\b\b\b\b\b\b\b\b\b\b\b\b\b\b\r813/813 [==============================] - 18s 22ms/step - loss: 0.2898 - accuracy: 0.9071 - lr: 6.7032e-04\n",
            "Epoch 15/20\n",
            "811/813 [============================>.] - ETA: 0s - loss: 0.2760 - accuracy: 0.9104"
          ]
        },
        {
          "name": "stderr",
          "output_type": "stream",
          "text": [
            "WARNING:tensorflow:Can save best model only with val_loss available, skipping.\n"
          ]
        },
        {
          "name": "stdout",
          "output_type": "stream",
          "text": [
            "\b\b\b\b\b\b\b\b\b\b\b\b\b\b\b\b\b\b\b\b\b\b\b\b\b\b\b\b\b\b\b\b\b\b\b\b\b\b\b\b\b\b\b\b\b\b\b\b\b\b\b\b\b\b\b\b\b\b\b\b\b\b\b\b\b\b\b\b\b\b\b\b\b\b\b\b\b\b\b\b\b\b\b\b\r813/813 [==============================] - 18s 22ms/step - loss: 0.2760 - accuracy: 0.9104 - lr: 6.0653e-04\n",
            "Epoch 16/20\n",
            "813/813 [==============================] - ETA: 0s - loss: 0.2570 - accuracy: 0.9157"
          ]
        },
        {
          "name": "stderr",
          "output_type": "stream",
          "text": [
            "WARNING:tensorflow:Can save best model only with val_loss available, skipping.\n"
          ]
        },
        {
          "name": "stdout",
          "output_type": "stream",
          "text": [
            "\b\b\b\b\b\b\b\b\b\b\b\b\b\b\b\b\b\b\b\b\b\b\b\b\b\b\b\b\b\b\b\b\b\b\b\b\b\b\b\b\b\b\b\b\b\b\b\b\b\b\b\b\b\b\b\b\b\b\b\b\b\b\b\b\b\b\b\b\b\b\b\b\b\b\b\b\b\b\b\b\b\b\b\b\r813/813 [==============================] - 19s 23ms/step - loss: 0.2570 - accuracy: 0.9157 - lr: 5.4881e-04\n",
            "Epoch 17/20\n",
            "813/813 [==============================] - ETA: 0s - loss: 0.2323 - accuracy: 0.9242"
          ]
        },
        {
          "name": "stderr",
          "output_type": "stream",
          "text": [
            "WARNING:tensorflow:Can save best model only with val_loss available, skipping.\n"
          ]
        },
        {
          "name": "stdout",
          "output_type": "stream",
          "text": [
            "\b\b\b\b\b\b\b\b\b\b\b\b\b\b\b\b\b\b\b\b\b\b\b\b\b\b\b\b\b\b\b\b\b\b\b\b\b\b\b\b\b\b\b\b\b\b\b\b\b\b\b\b\b\b\b\b\b\b\b\b\b\b\b\b\b\b\b\b\b\b\b\b\b\b\b\b\b\b\b\b\b\b\b\b\r813/813 [==============================] - 18s 22ms/step - loss: 0.2323 - accuracy: 0.9242 - lr: 4.9659e-04\n",
            "Epoch 18/20\n",
            "811/813 [============================>.] - ETA: 0s - loss: 0.2435 - accuracy: 0.9204"
          ]
        },
        {
          "name": "stderr",
          "output_type": "stream",
          "text": [
            "WARNING:tensorflow:Can save best model only with val_loss available, skipping.\n"
          ]
        },
        {
          "name": "stdout",
          "output_type": "stream",
          "text": [
            "\b\b\b\b\b\b\b\b\b\b\b\b\b\b\b\b\b\b\b\b\b\b\b\b\b\b\b\b\b\b\b\b\b\b\b\b\b\b\b\b\b\b\b\b\b\b\b\b\b\b\b\b\b\b\b\b\b\b\b\b\b\b\b\b\b\b\b\b\b\b\b\b\b\b\b\b\b\b\b\b\b\b\b\b\r813/813 [==============================] - 19s 23ms/step - loss: 0.2435 - accuracy: 0.9204 - lr: 4.4933e-04\n",
            "Epoch 19/20\n",
            "813/813 [==============================] - ETA: 0s - loss: 0.2247 - accuracy: 0.9263"
          ]
        },
        {
          "name": "stderr",
          "output_type": "stream",
          "text": [
            "WARNING:tensorflow:Can save best model only with val_loss available, skipping.\n"
          ]
        },
        {
          "name": "stdout",
          "output_type": "stream",
          "text": [
            "\b\b\b\b\b\b\b\b\b\b\b\b\b\b\b\b\b\b\b\b\b\b\b\b\b\b\b\b\b\b\b\b\b\b\b\b\b\b\b\b\b\b\b\b\b\b\b\b\b\b\b\b\b\b\b\b\b\b\b\b\b\b\b\b\b\b\b\b\b\b\b\b\b\b\b\b\b\b\b\b\b\b\b\b\r813/813 [==============================] - 18s 22ms/step - loss: 0.2247 - accuracy: 0.9263 - lr: 4.0657e-04\n",
            "Epoch 20/20\n",
            "811/813 [============================>.] - ETA: 0s - loss: 0.2211 - accuracy: 0.9274"
          ]
        },
        {
          "name": "stderr",
          "output_type": "stream",
          "text": [
            "WARNING:tensorflow:Can save best model only with val_loss available, skipping.\n"
          ]
        },
        {
          "name": "stdout",
          "output_type": "stream",
          "text": [
            "813/813 [==============================] - 19s 23ms/step - loss: 0.2209 - accuracy: 0.9275 - lr: 3.6788e-04\n",
            "82/82 [==============================] - 1s 8ms/step - loss: 0.1478 - accuracy: 0.9600\n",
            "Experiment 5 - Accuracy: 0.9599999785423279\n"
          ]
        }
      ],
      "source": [
        "import tensorflow as tf\n",
        "from tensorflow.keras.models import Sequential\n",
        "from tensorflow.keras.layers import Input, Dense, Dropout, Conv2D, Flatten, MaxPooling2D, BatchNormalization\n",
        "from tensorflow.keras.optimizers import Adam\n",
        "from tensorflow.keras.callbacks import LearningRateScheduler, ModelCheckpoint\n",
        "from tensorflow.keras.utils import to_categorical\n",
        "import numpy as np\n",
        "from datasets import load_dataset\n",
        "from PIL import Image\n",
        "import keras_tuner as kt\n",
        "from sklearn.model_selection import train_test_split\n",
        "\n",
        "# Dynamic learning rate schedule function\n",
        "def lr_schedule(epoch, lr):\n",
        "    if epoch < 10:\n",
        "        return lr\n",
        "    else:\n",
        "        return lr * np.exp(-0.1)\n",
        "\n",
        "# Function to create a neural network model based on configuration\n",
        "def create_model(config):\n",
        "    model = Sequential()\n",
        "\n",
        "    for layer_config in config.get('layers', []):\n",
        "        layer_type = layer_config['type']\n",
        "\n",
        "        if layer_type == 'Conv2D':\n",
        "            model.add(Conv2D(layer_config['filters'], layer_config['kernel_size'],\n",
        "                             activation=layer_config['activation'],\n",
        "                             input_shape=layer_config.get('input_shape')))\n",
        "        elif layer_type == 'MaxPooling2D':\n",
        "            model.add(MaxPooling2D(pool_size=layer_config['pool_size']))\n",
        "        elif layer_type == 'Flatten':\n",
        "            model.add(Flatten())\n",
        "        elif layer_type == 'Dense':\n",
        "            model.add(Dense(units=layer_config['units'], activation=layer_config['activation']))\n",
        "        elif layer_type == 'Dropout':\n",
        "            model.add(Dropout(rate=layer_config['rate']))\n",
        "        elif layer_type == 'BatchNormalization':\n",
        "            model.add(BatchNormalization())\n",
        "\n",
        "    model.add(Dense(config['output_units'], activation=config['output_activation']))\n",
        "\n",
        "    optimizer = Adam(learning_rate=config.get('learning_rate', 0.001))\n",
        "    model.compile(optimizer=optimizer, loss=config['loss'], metrics=config['metrics'])\n",
        "    return model\n",
        "\n",
        "\n",
        "\n",
        "# Example configuration for CNN\n",
        "config = [\n",
        "    {\n",
        "        'experiment_id': 5,\n",
        "        'layers': [\n",
        "            {'type': 'Conv2D', 'filters': 32, 'kernel_size': (3, 3), 'activation': 'relu', 'input_shape': (28, 28, 3)},\n",
        "            {'type': 'MaxPooling2D', 'pool_size': (2, 2)},\n",
        "            {'type': 'Flatten'},\n",
        "            {'type': 'Dense', 'units': 64, 'activation': 'relu'},\n",
        "            {'type': 'Dropout', 'rate': 0.5},\n",
        "            {'type': 'BatchNormalization'}\n",
        "        ],\n",
        "        'output_units': 26,\n",
        "        'output_activation': 'softmax',\n",
        "        'loss': 'categorical_crossentropy',\n",
        "        'metrics': ['accuracy'],\n",
        "        'learning_rate': 0.001\n",
        "    },\n",
        "    # Add more configurations as needed\n",
        "]\n",
        "\n",
        "# Load and preprocess data\n",
        "dataset = load_dataset(\"pittawat/letter_recognition\")\n",
        "train_images, train_labels = preprocess_data(dataset['train'])\n",
        "test_images, test_labels = preprocess_data(dataset['test'])\n",
        "\n",
        "\n",
        "# Sprawdzenie wymiarów danych\n",
        "print(\"Wymiary obrazów treningowych:\", train_images.shape)\n",
        "print(\"Wymiary etykiet treningowych:\", train_labels.shape)\n",
        "print(\"Wymiary obrazów testowych:\", test_images.shape)\n",
        "print(\"Wymiary etykiet testowych:\", test_labels.shape)\n",
        "\n",
        "\n",
        "# Experiments\n",
        "for cfg in config:\n",
        "    model = create_model(cfg)\n",
        "    checkpoint = ModelCheckpoint('best_model.h5', save_best_only=True)\n",
        "    history = model.fit(train_images, train_labels, epochs=20, callbacks=[LearningRateScheduler(lr_schedule), checkpoint])\n",
        "    evaluation = model.evaluate(test_images, test_labels)\n",
        "    print(f\"Experiment {cfg['experiment_id']} - Accuracy: {evaluation[1]}\")\n"
      ]
    }
  ],
  "metadata": {
    "colab": {
      "authorship_tag": "ABX9TyPlTWeTcCeSAHrgKCrC/0ch",
      "include_colab_link": true,
      "provenance": []
    },
    "kernelspec": {
      "display_name": "Python 3",
      "name": "python3"
    },
    "language_info": {
      "name": "python"
    }
  },
  "nbformat": 4,
  "nbformat_minor": 0
}
